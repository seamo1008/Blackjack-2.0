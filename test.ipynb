{
 "cells": [
  {
   "cell_type": "code",
   "execution_count": null,
   "metadata": {},
   "outputs": [],
   "source": [
    "import pygame\n",
    "import sys\n",
    "import random\n",
    "from pygame.math import Vector2"
   ]
  },
  {
   "cell_type": "code",
   "execution_count": null,
   "metadata": {},
   "outputs": [],
   "source": [
    "class SNAKE:\n",
    "    def __init__(self):\n",
    "        self.body = [Vector2(5,10),Vector2(4,10),Vector2(3,10)]\n",
    "        self.direction = Vector2(0,0)\n",
    "        self.new_block = False\n",
    "\n",
    "    def draw_snake(self):\n",
    "        for block in self.body:\n",
    "            x_pos = block.x * cell_size\n",
    "            y_pos = block.y * cell_size\n",
    "            block_rect = pygame.Rect(x_pos,y_pos,cell_size,cell_size)\n",
    "            pygame.draw.rect(screen,(183,111,122),block_rect)\n",
    "\n",
    "    def move_snake(self):\n",
    "        if self.new_block == True:\n",
    "            body_copy = self.body[:]\n",
    "            body_copy.insert(0,body_copy[0] + self.direction)\n",
    "            self.body = body_copy[:]\n",
    "            self.new_block = False\n",
    "        else:\n",
    "            body_copy = self.body[:-1]\n",
    "            body_copy.insert(0,body_copy[0] + self.direction)\n",
    "            self.body = body_copy[:]\n",
    "\n",
    "    def add_block(self):\n",
    "        self.new_block = True\n",
    "\n",
    "    def reset(self):\n",
    "        self.body = [Vector2(5,10),Vector2(4,10),Vector2(3,10)]\n",
    "        self.direction = Vector2(0,0)\n",
    "\n"
   ]
  },
  {
   "cell_type": "code",
   "execution_count": null,
   "metadata": {},
   "outputs": [],
   "source": [
    "class FRUIT:\n",
    "    def __init__(self):\n",
    "        self.randomize()\n",
    "    def draw_fruit(self):\n",
    "        fruit_rect = pygame.Rect(self.pos.x * cell_size,self.pos.y * cell_size,cell_size,cell_size)\n",
    "        screen.blit(apple,fruit_rect)\n",
    "\n",
    "    def randomize(self):\n",
    "        self.x = random.randint(0,cell_number - 1)\n",
    "        self.y = random.randint(0,cell_number - 1)\n",
    "        self.pos = Vector2(self.x,self.y)"
   ]
  },
  {
   "cell_type": "code",
   "execution_count": null,
   "metadata": {},
   "outputs": [],
   "source": [
    "class MAIN:\n",
    "    def __init__(self):\n",
    "        self.snake = SNAKE()\n",
    "        self.fruit = FRUIT()\n",
    "\n",
    "    def update(self):\n",
    "        self.snake.move_snake()\n",
    "        self.check_collision()\n",
    "        self.check_fail()\n",
    "\n",
    "    def draw_elements(self):\n",
    "        self.draw_grass()\n",
    "        self.fruit.draw_fruit()\n",
    "        self.snake.draw_snake()\n",
    "        self.draw_score()\n",
    "\n",
    "    def check_collision(self):\n",
    "        if self.fruit.pos == self.snake.body[0]:\n",
    "            self.fruit.randomize()\n",
    "            self.snake.add_block()\n",
    "        \n",
    "        for block in self.snake.body[1:]:\n",
    "            if block == self.fruit.pos:\n",
    "                self.fruit.randomize()\n",
    "\n",
    "    def check_fail(self):\n",
    "        if not 0 <= self.snake.body[0].x < cell_number or not 0 <= self.snake.body[0].y < cell_number:\n",
    "            self.game_over()\n",
    "\n",
    "        for block in self.snake.body[1:]:\n",
    "            if block == self.snake.body[0]:\n",
    "                self.game_over()\n",
    "            \n",
    "\n",
    "    def game_over(self):\n",
    "        self.snake.reset()\n",
    "        \n",
    "    def draw_grass(self):\n",
    "        grass_color = (167,209,61)\n",
    "        for row in range(cell_number):\n",
    "            if row % 2 == 0:\n",
    "                for col in range(cell_number):\n",
    "                    if col % 2 == 0:\n",
    "                        grass_rect = pygame.Rect(col * cell_size,row * cell_size,cell_size,cell_size)\n",
    "                        pygame.draw.rect(screen,grass_color,grass_rect)\n",
    "            else:\n",
    "                for col in range(cell_number):\n",
    "                    if col % 2 != 0:\n",
    "                        grass_rect = pygame.Rect(col * cell_size,row * cell_size,cell_size,cell_size)\n",
    "                        pygame.draw.rect(screen,grass_color,grass_rect)\n",
    "\n",
    "    def draw_score(self):\n",
    "        score_text = str(len(self.snake.body) - 3)\n",
    "        score_surface = game_font.render(score_text,True,(56,74,12))\n",
    "        score_x = int(cell_size * cell_number - 60)\n",
    "        score_y = int(cell_size * cell_number - 40)\n",
    "        score_rect = score_surface.get_rect(center = (score_x,score_y))\n",
    "        apple_rect = apple.get_rect(midright = (score_rect.left,score_rect.centery))\n",
    "        bg_rect = pygame.Rect(apple_rect.left,apple_rect.top,apple_rect.width + score_rect.width + 6,apple_rect.height)\n",
    "\n",
    "        pygame.draw.rect(screen,(167,209,61),bg_rect)\n",
    "        screen.blit(score_surface,score_rect)\n",
    "        screen.blit(apple,apple_rect)\n",
    "        pygame.draw.rect(screen,(56,74,12),bg_rect,2)\n"
   ]
  },
  {
   "cell_type": "code",
   "execution_count": null,
   "metadata": {},
   "outputs": [],
   "source": [
    "pygame.init()"
   ]
  },
  {
   "cell_type": "code",
   "execution_count": null,
   "metadata": {},
   "outputs": [],
   "source": [
    "\n",
    "cell_size = 40\n",
    "cell_number = 20\n",
    "screen = pygame.display.set_mode((cell_number * cell_size, cell_number * cell_size))\n",
    "clock = pygame.time.Clock()\n",
    "apple = pygame.image.load('Graphics/apple_2.png').convert_alpha()\n",
    "game_font = pygame.font.Font(None,25)"
   ]
  },
  {
   "cell_type": "code",
   "execution_count": null,
   "metadata": {},
   "outputs": [],
   "source": [
    "SCREEN_UPDATE = pygame.USEREVENT\n",
    "pygame.time.set_timer(SCREEN_UPDATE,150)"
   ]
  },
  {
   "cell_type": "code",
   "execution_count": null,
   "metadata": {},
   "outputs": [],
   "source": [
    "main_game = MAIN()"
   ]
  },
  {
   "cell_type": "code",
   "execution_count": null,
   "metadata": {},
   "outputs": [],
   "source": [
    "while True:\n",
    "    for event in pygame.event.get():\n",
    "        if event.type == pygame.QUIT:\n",
    "            pygame.quit()\n",
    "            sys.exit()\n",
    "        if event.type == SCREEN_UPDATE:\n",
    "            main_game.update()\n",
    "        if event.type == pygame.KEYDOWN:\n",
    "            if event.key == pygame.K_UP:\n",
    "                if main_game.snake.direction.y != 1:\n",
    "                    main_game.snake.direction = Vector2(0,-1)\n",
    "            if event.key == pygame.K_DOWN:\n",
    "                if main_game.snake.direction.y != -1:\n",
    "                    main_game.snake.direction = Vector2(0,1)\n",
    "            if event.key == pygame.K_LEFT:\n",
    "                if main_game.snake.direction.x != 1:\n",
    "                    main_game.snake.direction = Vector2(-1,0)\n",
    "            if event.key == pygame.K_RIGHT:\n",
    "                if main_game.snake.direction.x != -1:\n",
    "                    main_game.snake.direction = Vector2(1,0)\n",
    "    screen.fill((175,215,70)) \n",
    "    main_game.draw_elements()\n",
    "    pygame.display.update()\n",
    "    clock.tick(60)"
   ]
  }
 ],
 "metadata": {
  "kernelspec": {
   "display_name": "Python 3",
   "language": "python",
   "name": "python3"
  },
  "language_info": {
   "codemirror_mode": {
    "name": "ipython",
    "version": 3
   },
   "file_extension": ".py",
   "mimetype": "text/x-python",
   "name": "python",
   "nbconvert_exporter": "python",
   "pygments_lexer": "ipython3",
   "version": "3.11.4"
  },
  "orig_nbformat": 4
 },
 "nbformat": 4,
 "nbformat_minor": 2
}
